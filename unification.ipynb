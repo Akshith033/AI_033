{
  "nbformat": 4,
  "nbformat_minor": 0,
  "metadata": {
    "colab": {
      "provenance": []
    },
    "kernelspec": {
      "name": "python3",
      "display_name": "Python 3"
    },
    "language_info": {
      "name": "python"
    }
  },
  "cells": [
    {
      "cell_type": "code",
      "execution_count": 11,
      "metadata": {
        "colab": {
          "base_uri": "https://localhost:8080/",
          "height": 0
        },
        "id": "STX9oi0Qorqk",
        "outputId": "d890e445-b770-4549-d936-d0a9063e7341"
      },
      "outputs": [
        {
          "output_type": "stream",
          "name": "stdout",
          "text": [
            "Unification Successful! Substitution: {'y': 'John', 'x': 'Alice'}\n"
          ]
        }
      ],
      "source": [
        "def unify(expr1, expr2, subst=None):\n",
        "    if subst is None:\n",
        "        subst = {}\n",
        "\n",
        "    if expr1 == expr2:\n",
        "        return subst\n",
        "    elif isinstance(expr1, str) and expr1.islower():\n",
        "        return unify_var(expr1, expr2, subst)\n",
        "    elif isinstance(expr2, str) and expr2.islower():\n",
        "        return unify_var(expr2, expr1, subst)\n",
        "    elif isinstance(expr1, list) and isinstance(expr2, list) and len(expr1) == len(expr2):\n",
        "        return unify(expr1[1:], expr2[1:], unify(expr1[0], expr2[0], subst))\n",
        "    else:\n",
        "        return None\n",
        "\n",
        "\n",
        "def unify_var(var, x, subst):\n",
        "    if var in subst:\n",
        "        return unify(subst[var], x, subst)\n",
        "    elif x in subst:\n",
        "        return unify(var, subst[x], subst)\n",
        "    elif occurs_check(var, x):\n",
        "        return None\n",
        "    else:\n",
        "        subst[var] = x\n",
        "        return subst\n",
        "\n",
        "\n",
        "def occurs_check(var, x):\n",
        "    if var == x:\n",
        "        return True\n",
        "    elif isinstance(x, list):\n",
        "        return any(occurs_check(var, sub) for sub in x)\n",
        "    return False\n",
        "\n",
        "\n",
        "expr1 = [\"Knows\", \"John\", \"x\"]\n",
        "expr2 = [\"Knows\", \"y\", \"Alice\"]\n",
        "\n",
        "substitution = unify(expr1, expr2)\n",
        "if substitution:\n",
        "    print(\"Unification Successful! Substitution:\", substitution)\n",
        "else:\n",
        "    print(\"Unification Failed!\")\n"
      ]
    }
  ]
}