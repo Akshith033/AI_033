{
  "nbformat": 4,
  "nbformat_minor": 0,
  "metadata": {
    "colab": {
      "provenance": []
    },
    "kernelspec": {
      "name": "python3",
      "display_name": "Python 3"
    },
    "language_info": {
      "name": "python"
    }
  },
  "cells": [
    {
      "cell_type": "code",
      "execution_count": 4,
      "metadata": {
        "colab": {
          "base_uri": "https://localhost:8080/"
        },
        "id": "JYBk9CIUj0We",
        "outputId": "80787ac5-1993-41d6-d627-dc222411329e"
      },
      "outputs": [
        {
          "output_type": "stream",
          "name": "stdout",
          "text": [
            "Does KB entail z? Yes\n",
            "Does KB entail Implies(z, x)? Yes\n",
            "Does KB entail Implies(y, z)? Yes\n"
          ]
        }
      ],
      "source": [
        "from sympy.logic.boolalg import Implies, And\n",
        "from sympy import symbols\n",
        "from itertools import product\n",
        "\n",
        "x, y, z = symbols('x y z')\n",
        "\n",
        "kb = And(Implies(x, y), Implies(y, z), x)\n",
        "\n",
        "queries = [\n",
        "    z,\n",
        "    Implies(z, x),\n",
        "    Implies(y, z)\n",
        "]\n",
        "\n",
        "def generate_truth_table(variables):\n",
        "    return list(product([False, True], repeat=len(variables)))\n",
        "\n",
        "def evaluate_expression(expr, truth_values, variables):\n",
        "    assignment = dict(zip(variables, truth_values))\n",
        "    return expr.subs(assignment)\n",
        "\n",
        "def check_entailment(kb, query, variables):\n",
        "    truth_table = generate_truth_table(variables)\n",
        "\n",
        "    for truth_values in truth_table:\n",
        "        kb_eval = evaluate_expression(kb, truth_values, variables)\n",
        "        query_eval = evaluate_expression(query, truth_values, variables)\n",
        "\n",
        "        if kb_eval and not query_eval:\n",
        "            return False\n",
        "\n",
        "    return True\n",
        "\n",
        "def print_results(kb, queries, variables):\n",
        "    for query in queries:\n",
        "        result = check_entailment(kb, query, variables)\n",
        "        print(f\"Does KB entail {query}? {'Yes' if result else 'No'}\")\n",
        "\n",
        "variables = [x, y, z]\n",
        "\n",
        "print_results(kb, queries, variables)\n",
        "\n"
      ]
    }
  ]
}