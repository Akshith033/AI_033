{
  "nbformat": 4,
  "nbformat_minor": 0,
  "metadata": {
    "colab": {
      "provenance": []
    },
    "kernelspec": {
      "name": "python3",
      "display_name": "Python 3"
    },
    "language_info": {
      "name": "python"
    }
  },
  "cells": [
    {
      "cell_type": "code",
      "execution_count": 8,
      "metadata": {
        "colab": {
          "base_uri": "https://localhost:8080/"
        },
        "id": "NTFtC8EXYCE1",
        "outputId": "d4d3489e-2bee-4068-bc23-cb57914d6f1b"
      },
      "outputs": [
        {
          "output_type": "stream",
          "name": "stdout",
          "text": [
            "Solution found:\n",
            "(2, 8, 3)\n",
            "(1, 6, 4)\n",
            "(0, 7, 5)\n",
            "\n",
            "(2, 8, 3)\n",
            "(1, 6, 4)\n",
            "(7, 0, 5)\n",
            "\n",
            "(2, 8, 3)\n",
            "(1, 0, 4)\n",
            "(7, 6, 5)\n",
            "\n",
            "(2, 0, 3)\n",
            "(1, 8, 4)\n",
            "(7, 6, 5)\n",
            "\n",
            "(0, 2, 3)\n",
            "(1, 8, 4)\n",
            "(7, 6, 5)\n",
            "\n",
            "(1, 2, 3)\n",
            "(0, 8, 4)\n",
            "(7, 6, 5)\n",
            "\n",
            "(1, 2, 3)\n",
            "(8, 0, 4)\n",
            "(7, 6, 5)\n",
            "\n"
          ]
        }
      ],
      "source": [
        "import heapq\n",
        "\n",
        "goal_state = (1, 2, 3, 8,0,4,7,6,5)\n",
        "MOVES = [(-1, 0), (1, 0), (0, -1), (0, 1)]\n",
        "\n",
        "def misplaced_tiles(state):\n",
        "    return sum(1 for i, tile in enumerate(state) if tile != 0 and tile != goal_state[i])\n",
        "\n",
        "def get_neighbors(state):\n",
        "    state_list = list(state)\n",
        "    zero_pos = state_list.index(0)\n",
        "    zero_row, zero_col = zero_pos // 3, zero_pos % 3\n",
        "    neighbors = []\n",
        "\n",
        "    for move in MOVES:\n",
        "        new_row, new_col = zero_row + move[0], zero_col + move[1]\n",
        "        if 0 <= new_row < 3 and 0 <= new_col < 3:\n",
        "            new_zero_pos = new_row * 3 + new_col\n",
        "            state_list[zero_pos], state_list[new_zero_pos] = state_list[new_zero_pos], state_list[zero_pos]\n",
        "            neighbors.append(tuple(state_list))\n",
        "            state_list[zero_pos], state_list[new_zero_pos] = state_list[new_zero_pos], state_list[zero_pos]\n",
        "\n",
        "    return neighbors\n",
        "\n",
        "def a_star(start_state):\n",
        "    open_list = []\n",
        "    closed_list = set()\n",
        "    start_h = misplaced_tiles(start_state)\n",
        "    heapq.heappush(open_list, (start_h, 0, start_state, []))\n",
        "\n",
        "    while open_list:\n",
        "        f, g, current_state, path = heapq.heappop(open_list)\n",
        "\n",
        "        if current_state == goal_state:\n",
        "            return path + [current_state]\n",
        "\n",
        "        if current_state in closed_list:\n",
        "            continue\n",
        "\n",
        "        closed_list.add(current_state)\n",
        "\n",
        "        for neighbor in get_neighbors(current_state):\n",
        "            new_g = g + 1\n",
        "            new_h = misplaced_tiles(neighbor)\n",
        "            heapq.heappush(open_list, (new_g + new_h, new_g, neighbor, path + [current_state]))\n",
        "\n",
        "    return None\n",
        "\n",
        "def print_state(state):\n",
        "    for i in range(0, 9, 3):\n",
        "        print(state[i:i+3])\n",
        "\n",
        "if __name__ == \"__main__\":\n",
        "    start_state = (2, 8, 3, 1, 6, 4, 0,7, 5)\n",
        "    solution = a_star(start_state)\n",
        "\n",
        "    if solution:\n",
        "        print(\"Solution found:\")\n",
        "        for state in solution:\n",
        "            print_state(state)\n",
        "            print()\n",
        "    else:\n",
        "        print(\"No solution found.\")\n"
      ]
    },
    {
      "cell_type": "markdown",
      "source": [
        "# New Section"
      ],
      "metadata": {
        "id": "wfHmUQWne969"
      }
    }
  ]
}