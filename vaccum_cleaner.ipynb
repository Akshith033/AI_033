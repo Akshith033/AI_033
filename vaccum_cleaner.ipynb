{
  "nbformat": 4,
  "nbformat_minor": 0,
  "metadata": {
    "colab": {
      "provenance": []
    },
    "kernelspec": {
      "name": "python3",
      "display_name": "Python 3"
    },
    "language_info": {
      "name": "python"
    }
  },
  "cells": [
    {
      "cell_type": "code",
      "execution_count": 11,
      "metadata": {
        "colab": {
          "base_uri": "https://localhost:8080/"
        },
        "id": "NTFtC8EXYCE1",
        "outputId": "1253cfa1-7c8b-4b65-8e38-62bea106209f"
      },
      "outputs": [
        {
          "output_type": "stream",
          "name": "stdout",
          "text": [
            "Enter Location of Vacuum (A or B): a\n",
            "Enter status of A (0 for Clean, 1 for Dirty): 1\n",
            "Enter status of other room (0 for Clean, 1 for Dirty): 0\n",
            "Initial Location Condition: {'A': '0', 'B': '0'}\n",
            "Vacuum is placed in Location A\n",
            "Location A is Dirty.\n",
            "Cost for CLEANING A: 1\n",
            "Location A has been Cleaned.\n",
            "Location B is already clean.\n",
            "GOAL STATE: {'A': '0', 'B': '0'}\n",
            "Performance Measurement: 1\n"
          ]
        }
      ],
      "source": [
        "def vacuum_world():\n",
        "    # Initializing goal_state\n",
        "    goal_state = {'A': '0', 'B': '0'}\n",
        "    cost = 0\n",
        "    location_input = input(\"Enter Location of Vacuum (A or B): \").strip().upper()  # User input for location\n",
        "    status_input = input(f\"Enter status of {location_input} (0 for Clean, 1 for Dirty): \").strip()\n",
        "    status_input_complement = input(\"Enter status of other room (0 for Clean, 1 for Dirty): \").strip()\n",
        "\n",
        "    print(\"Initial Location Condition:\", goal_state)\n",
        "\n",
        "    if location_input == 'A':\n",
        "        print(\"Vacuum is placed in Location A\")\n",
        "        if status_input == '1':\n",
        "            print(\"Location A is Dirty.\")\n",
        "            goal_state['A'] = '0'\n",
        "            cost += 1  # cost for suck\n",
        "            print(\"Cost for CLEANING A:\", cost)\n",
        "            print(\"Location A has been Cleaned.\")\n",
        "        else:\n",
        "            print(\"Location A is already clean.\")\n",
        "\n",
        "        if status_input_complement == '1':\n",
        "            print(\"Location B is Dirty.\")\n",
        "            print(\"Moving right to Location B.\")\n",
        "            cost += 1  # cost for moving right\n",
        "            print(\"COST for moving RIGHT:\", cost)\n",
        "            goal_state['B'] = '0'\n",
        "            cost += 1  # cost for suck\n",
        "            print(\"COST for SUCK:\", cost)\n",
        "            print(\"Location B has been Cleaned.\")\n",
        "        else:\n",
        "            print(\"Location B is already clean.\")\n",
        "\n",
        "    elif location_input == 'B':\n",
        "        print(\"Vacuum is placed in Location B\")\n",
        "        if status_input == '1':\n",
        "            print(\"Location B is Dirty.\")\n",
        "            goal_state['B'] = '0'\n",
        "            cost += 1  # cost for suck\n",
        "            print(\"COST for CLEANING:\", cost)\n",
        "            print(\"Location B has been Cleaned.\")\n",
        "        else:\n",
        "            print(\"Location B is already clean.\")\n",
        "\n",
        "        if status_input_complement == '1':\n",
        "            print(\"Location A is Dirty.\")\n",
        "            print(\"Moving left to Location A.\")\n",
        "            cost += 1  # cost for moving left\n",
        "            print(\"COST for moving LEFT:\", cost)\n",
        "            goal_state['A'] = '0'\n",
        "            cost += 1  # cost for suck\n",
        "            print(\"COST for SUCK:\", cost)\n",
        "            print(\"Location A has been Cleaned.\")\n",
        "        else:\n",
        "            print(\"Location A is already clean.\")\n",
        "\n",
        "    # Done cleaning\n",
        "    print(\"GOAL STATE:\", goal_state)\n",
        "    print(\"Performance Measurement:\", cost)\n",
        "\n",
        "# To run the vacuum world simulation:\n",
        "vacuum_world()"
      ]
    }
  ]
}